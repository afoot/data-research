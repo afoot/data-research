{
 "cells": [
  {
   "cell_type": "code",
   "execution_count": 52,
   "metadata": {},
   "outputs": [
    {
     "name": "stdout",
     "output_type": "stream",
     "text": [
      "[['0', '2015-12-27', '1.33', '64236.62', '1036.74', '54454.85', '48.16', '8696.87', '8603.62', '93.25', '0.0', 'conventional', '2015', 'Albany'], ['1', '2015-12-20', '1.35', '54876.98', '674.28', '44638.81', '58.33', '9505.56', '9408.07', '97.49', '0.0', 'conventional', '2015', 'Albany']]\n"
     ]
    }
   ],
   "source": [
    "import csv\n",
    "f = open('avocado.csv', 'r')\n",
    "avocado = list(csv.reader(f))\n",
    "headers = avocado[0]\n",
    "avocado = avocado[1:]\n",
    "print(avocado[:2])"
   ]
  },
  {
   "cell_type": "code",
   "execution_count": 17,
   "metadata": {},
   "outputs": [
    {
     "data": {
      "text/plain": [
       "{'2015': 4385404425.41996,\n",
       " '2016': 4820816550.099978,\n",
       " '2017': 4934192184.850029,\n",
       " '2018': 1382588943.7600026}"
      ]
     },
     "execution_count": 17,
     "metadata": {},
     "output_type": "execute_result"
    }
   ],
   "source": [
    "#Counting Total number of avocados sold by year\n",
    "years_count = {}\n",
    "for i in avocado:\n",
    "    year = i[12]\n",
    "    if year not in years_count:\n",
    "        years_count[year] = 0\n",
    "    else:\n",
    "        years_count[year] += float(i[3])\n",
    "years_count        \n",
    "\n",
    "\n",
    "    \n",
    "\n"
   ]
  },
  {
   "cell_type": "code",
   "execution_count": 56,
   "metadata": {},
   "outputs": [
    {
     "data": {
      "text/plain": [
       "defaultdict(float,\n",
       "            {'2015-12': 296025931.89000046,\n",
       "             '2015-11': 369440036.3899998,\n",
       "             '2015-10': 305776111.0199997,\n",
       "             '2015-09': 329218833.0500003,\n",
       "             '2015-08': 419244814.82000035,\n",
       "             '2015-07': 356701872.6299998,\n",
       "             '2015-06': 381826743.7099998,\n",
       "             '2015-05': 483784044.7899992,\n",
       "             '2015-04': 344144395.15,\n",
       "             '2015-03': 418583069.76999956,\n",
       "             '2015-02': 362637599.2299999,\n",
       "             '2015-01': 318085209.5899999,\n",
       "             '2016-12': 331447751.88000035,\n",
       "             '2016-11': 260209336.70000023,\n",
       "             '2016-10': 360201804.2799995,\n",
       "             '2016-09': 362303275.4800001,\n",
       "             '2016-08': 370796966.98,\n",
       "             '2016-07': 467275344.2300003,\n",
       "             '2016-06': 410328154.0800004,\n",
       "             '2016-05': 561230530.5699996,\n",
       "             '2016-04': 401832751.79000044,\n",
       "             '2016-03': 391212408.27999985,\n",
       "             '2016-02': 428645801.98,\n",
       "             '2016-01': 475405765.58000004,\n",
       "             '2017-12': 459332860.02999985,\n",
       "             '2017-11': 324519308.52999973,\n",
       "             '2017-10': 362777956.7399999,\n",
       "             '2017-09': 284779536.3300005,\n",
       "             '2017-08': 338332990.1799999,\n",
       "             '2017-07': 474903710.36000025,\n",
       "             '2017-06': 410410650.9500002,\n",
       "             '2017-05': 425730541.61000013,\n",
       "             '2017-04': 489814529.54000026,\n",
       "             '2017-03': 358903381.7499999,\n",
       "             '2017-02': 471467199.8399999,\n",
       "             '2017-01': 533333033.4099999,\n",
       "             '2018-03': 455253060.2199999,\n",
       "             '2018-02': 497778196.4200004,\n",
       "             '2018-01': 429707083.6200003})"
      ]
     },
     "execution_count": 56,
     "metadata": {},
     "output_type": "execute_result"
    }
   ],
   "source": [
    "#Exploring Avocado Sell By Month And Year\n",
    "from collections import defaultdict\n",
    "\n",
    "years_month_count = defaultdict(float)\n",
    "for x in avocado:\n",
    "    years_month_count[x[1].rsplit('-', 1)[0]] += float(x[3])\n",
    "    \n",
    "years_month_count    \n",
    "   \n",
    "\n",
    "        \n",
    "    "
   ]
  },
  {
   "cell_type": "code",
   "execution_count": null,
   "metadata": {},
   "outputs": [],
   "source": [
    "\n",
    "    \n"
   ]
  }
 ],
 "metadata": {
  "kernelspec": {
   "display_name": "Python 3",
   "language": "python",
   "name": "python3"
  },
  "language_info": {
   "codemirror_mode": {
    "name": "ipython",
    "version": 3
   },
   "file_extension": ".py",
   "mimetype": "text/x-python",
   "name": "python",
   "nbconvert_exporter": "python",
   "pygments_lexer": "ipython3",
   "version": "3.6.5"
  }
 },
 "nbformat": 4,
 "nbformat_minor": 2
}
