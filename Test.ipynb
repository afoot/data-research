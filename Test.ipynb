{
 "cells": [
  {
   "cell_type": "code",
   "execution_count": 9,
   "metadata": {},
   "outputs": [
    {
     "name": "stdout",
     "output_type": "stream",
     "text": [
      "[['0', '2015-12-27', '1.33', '64236.62', '1036.74', '54454.85', '48.16', '8696.87', '8603.62', '93.25', '0.0', 'conventional', '2015', 'Albany']]\n"
     ]
    }
   ],
   "source": [
    "import csv\n",
    "f = open('avocado.csv', 'r')\n",
    "avocado = list(csv.reader(f))\n",
    "headers = avocado[0]\n",
    "avocado = avocado[1:]\n",
    "print(avocado[:1])"
   ]
  },
  {
   "cell_type": "code",
   "execution_count": 17,
   "metadata": {},
   "outputs": [
    {
     "data": {
      "text/plain": [
       "{'2015': 4385404425.41996,\n",
       " '2016': 4820816550.099978,\n",
       " '2017': 4934192184.850029,\n",
       " '2018': 1382588943.7600026}"
      ]
     },
     "execution_count": 17,
     "metadata": {},
     "output_type": "execute_result"
    }
   ],
   "source": [
    "#Counting Total number of avocados sold by year\n",
    "years_count = {}\n",
    "for i in avocado:\n",
    "    year = i[12]\n",
    "    if year not in years_count:\n",
    "        years_count[year] = 0\n",
    "    else:\n",
    "        years_count[year] += float(i[3])\n",
    "years_count        \n",
    "\n",
    "\n",
    "    \n",
    "\n"
   ]
  },
  {
   "cell_type": "code",
   "execution_count": 23,
   "metadata": {},
   "outputs": [
    {
     "data": {
      "text/plain": [
       "{}"
      ]
     },
     "execution_count": 23,
     "metadata": {},
     "output_type": "execute_result"
    }
   ],
   "source": [
    "#Exploring Avocado Sell By Month And Year\n",
    "import re\n",
    "month_count = {}\n",
    "for row in avocado:\n",
    "    if re.search(\"^[2]][0][1][5-8]\", row[1]):\n",
    "        month_count[row[1]] += row[3]\n",
    "month_count       \n",
    "        \n",
    "        \n",
    "    "
   ]
  },
  {
   "cell_type": "code",
   "execution_count": null,
   "metadata": {},
   "outputs": [],
   "source": [
    "\n"
   ]
  }
 ],
 "metadata": {
  "kernelspec": {
   "display_name": "Python 3",
   "language": "python",
   "name": "python3"
  },
  "language_info": {
   "codemirror_mode": {
    "name": "ipython",
    "version": 3
   },
   "file_extension": ".py",
   "mimetype": "text/x-python",
   "name": "python",
   "nbconvert_exporter": "python",
   "pygments_lexer": "ipython3",
   "version": "3.6.5"
  }
 },
 "nbformat": 4,
 "nbformat_minor": 2
}
